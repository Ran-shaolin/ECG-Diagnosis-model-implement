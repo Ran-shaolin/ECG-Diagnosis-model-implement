{
 "cells": [
  {
   "cell_type": "code",
   "execution_count": 1,
   "metadata": {},
   "outputs": [],
   "source": [
    "%matplotlib inline\n",
    "import sys\n",
    "sys.path\n",
    "import os\n",
    "os.environ['CUDA_VISIBLE_DEVICES'] = '0'\n",
    "from tqdm import tqdm_notebook\n",
    "import json\n",
    "from collections import Counter\n",
    "from datetime import date\n",
    "from multiprocessing import Process, Manager, Pool\n",
    "import shutil\n",
    "\n",
    "import xlrd\n",
    "import numpy as np\n",
    "import pandas as pd\n",
    "import matplotlib.pyplot as plt\n",
    "\n",
    "import torch\n",
    "import torchvision\n",
    "import torch.nn as nn\n",
    "import torch.nn.functional as F\n",
    "import torch.optim as optim\n",
    "from torch.autograd import Variable\n",
    "\n",
    "from torchvision import datasets, transforms\n",
    "from pathlib import Path\n",
    "from torch.utils.data import Dataset, DataLoader\n",
    "from torchvision.transforms import transforms\n",
    "from torchvision.utils import make_grid\n",
    "from torch.autograd import Variable\n",
    "\n",
    "\n",
    "from ECG_Dataset_class import ECG_Dataset\n",
    "from ECG_preprocessing import train_validation_test_split\n",
    "from ECG_Model import ECG_Net, train_model"
   ]
  },
  {
   "cell_type": "code",
   "execution_count": 2,
   "metadata": {},
   "outputs": [],
   "source": [
    "params = json.load(open('config.json', 'r'))\n",
    "\n",
    "train_data = ECG_Dataset(txt = params[\"multilabel_save_folder\"]+'train.txt', transform=transforms.ToTensor())\n",
    "train_loader = DataLoader(dataset=train_data, batch_size=params[\"batch_size\"], shuffle=True,num_workers=16,pin_memory=True)\n",
    "val_data = ECG_Dataset(txt= params[\"multilabel_save_folder\"]+'validation.txt', transform=transforms.ToTensor())\n",
    "val_loader = DataLoader(dataset=val_data, batch_size=params[\"batch_size\"], shuffle=False,num_workers=16,pin_memory=True)\n",
    "test_data = ECG_Dataset(txt= params[\"multilabel_save_folder\"]+'test.txt', transform=transforms.ToTensor())\n",
    "test_loader = DataLoader(dataset=test_data, batch_size=params[\"batch_size\"], shuffle=False,num_workers=16,pin_memory=True)"
   ]
  },
  {
   "cell_type": "code",
   "execution_count": null,
   "metadata": {
    "scrolled": true
   },
   "outputs": [],
   "source": [
    "device = torch.device(\"cuda\" if torch.cuda.is_available() else \"cpu\")\n",
    "model  = ECG_Net().to(device)\n",
    "\n",
    "tmp = {i: len(os.listdir(os.path.join(params[\"ecg_root_path\"], j))) for i, j in enumerate(sorted(\n",
    "    os.listdir(params[\"ecg_root_path\"]), key=lambda x: int(x[0]) if x[1] == '-' else int(x[:2])))}\n",
    "counter = Counter(tmp)\n",
    "max_val = float(max(counter.values()))       \n",
    "class_weight_tmp = {class_id : max_val/num_ecg for class_id, num_ecg in counter.items()}\n",
    "\n",
    "c_weight = []\n",
    "for key,val in class_weight_tmp.items():\n",
    "    c_weight.append(val)\n",
    "class_weight = torch.FloatTensor(c_weight).to(device)\n",
    "Loss_fn = nn.BCELoss(weight = class_weight).to(device)\n",
    "\n",
    "lr =  1e-4\n",
    "momentum = 0.9\n",
    "optimizer = torch.optim.Adam(model.parameters(),lr = lr, betas = (0.9, 0.999),eps = 1e-8, weight_decay = 1e-6)\n",
    "num_epochs = 60\n",
    "\n",
    "train_model(model,train_loader,val_loader,params[\"batch_size\"], num_epochs,Loss_fn,optimizer)"
   ]
  }
 ],
 "metadata": {
  "kernelspec": {
   "display_name": "Python 3",
   "language": "python",
   "name": "python3"
  },
  "language_info": {
   "codemirror_mode": {
    "name": "ipython",
    "version": 3
   },
   "file_extension": ".py",
   "mimetype": "text/x-python",
   "name": "python",
   "nbconvert_exporter": "python",
   "pygments_lexer": "ipython3",
   "version": "3.8.5"
  }
 },
 "nbformat": 4,
 "nbformat_minor": 4
}
