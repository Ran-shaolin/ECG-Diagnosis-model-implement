{
 "cells": [
  {
   "cell_type": "code",
   "execution_count": 1,
   "metadata": {
    "scrolled": true
   },
   "outputs": [],
   "source": [
    "import sys\n",
    "sys.path\n",
    "import os\n",
    "os.environ['CUDA_VISIBLE_DEVICES'] = '0'\n",
    "from tqdm import tqdm_notebook\n",
    "from ECG_preprocessing import train_validation_test_split\n",
    "import json\n",
    "import xlrd\n",
    "\n",
    "import torch\n",
    "import torchvision\n",
    "import os\n",
    "import numpy as np\n",
    "import pandas as pd\n",
    "\n",
    "import torch.nn as nn\n",
    "import torch.nn.functional as F\n",
    "import torch.optim as optim\n",
    "from torchvision import datasets, transforms\n",
    "from pathlib import Path\n",
    "from torch.utils.data import Dataset, DataLoader\n",
    "\n",
    "from torchvision.transforms import transforms\n",
    "from torchvision.utils import make_grid"
   ]
  },
  {
   "cell_type": "code",
   "execution_count": null,
   "metadata": {},
   "outputs": [],
   "source": [
    "params = json.load(open('config.json', 'r'))\n",
    "train_id, train_label, val_id, val_label, test_id, test_label = train_validation_test_split(26,params)"
   ]
  },
  {
   "cell_type": "code",
   "execution_count": 5,
   "metadata": {},
   "outputs": [],
   "source": [
    "os.remove(params[\"multilabel_save_folder\"]+'train.txt')\n",
    "os.remove(params[\"multilabel_save_folder\"]+'validation.txt')\n",
    "os.remove(params[\"multilabel_save_folder\"]+'test.txt')\n",
    "\n",
    "train = open(params[\"multilabel_save_folder\"]+'train.txt','a')\n",
    "i = 0\n",
    "for train_path, label in train_label.items():\n",
    "    if i<len(train_label.items()):\n",
    "        fileType = os.path.split(train_path)\n",
    "        if fileType[1] == '.txt':\n",
    "            continue\n",
    "        \n",
    "        name =train_path        \n",
    "        for l in label:\n",
    "            name = name +  ' '+str(l)\n",
    "        name = name+ '\\n'\n",
    "        train.write(name)\n",
    "        i = i+1\n",
    "\n",
    "train.close()\n",
    "\n",
    "validation = open(params[\"multilabel_save_folder\"]+'validation.txt','a')\n",
    "j = 0\n",
    "for val_path, label in val_label.items():\n",
    "    if j<len(val_label.items()):\n",
    "        fileType = os.path.split(val_path)\n",
    "        if fileType[1] == '.txt':\n",
    "            continue\n",
    "        name =val_path        \n",
    "        for l in label:\n",
    "            name = name +  ' '+str(l)\n",
    "        name = name+ '\\n'\n",
    "        validation.write(name)\n",
    "        j = j+1\n",
    "\n",
    "validation.close()\n",
    "\n",
    "\n",
    "test = open(params[\"multilabel_save_folder\"]+'test.txt','a')\n",
    "k = 0\n",
    "for test_path, label in test_label.items():\n",
    "    if k<len(test_label.items()):\n",
    "        fileType = os.path.split(test_path)\n",
    "        if fileType[1] == '.txt':\n",
    "            continue\n",
    "        name =test_path        \n",
    "        for l in label:\n",
    "            name = name +  ' '+str(l)\n",
    "        name = name+ '\\n'\n",
    "        test.write(name)\n",
    "        k = k+1\n",
    "\n",
    "test.close()"
   ]
  }
 ],
 "metadata": {
  "kernelspec": {
   "display_name": "Python 3",
   "language": "python",
   "name": "python3"
  },
  "language_info": {
   "codemirror_mode": {
    "name": "ipython",
    "version": 3
   },
   "file_extension": ".py",
   "mimetype": "text/x-python",
   "name": "python",
   "nbconvert_exporter": "python",
   "pygments_lexer": "ipython3",
   "version": "3.8.5"
  }
 },
 "nbformat": 4,
 "nbformat_minor": 2
}
