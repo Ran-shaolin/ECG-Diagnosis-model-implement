{
 "cells": [
  {
   "cell_type": "code",
   "execution_count": 113,
   "metadata": {},
   "outputs": [],
   "source": [
    "%matplotlib inline\n",
    "import sys\n",
    "sys.path\n",
    "import os\n",
    "os.environ['CUDA_VISIBLE_DEVICES'] = '0'\n",
    "from tqdm import tqdm_notebook\n",
    "import tqdm\n",
    "import json\n",
    "import shutil\n",
    "import xlrd\n",
    "import numpy as np\n",
    "import pandas as pd\n",
    "\n",
    "import torch\n",
    "import torchvision\n",
    "import torch.nn as nn\n",
    "import torch.nn.functional as F\n",
    "import torch.optim as optim\n",
    "from torch.autograd import Variable\n",
    "\n",
    "from torchvision import datasets, transforms\n",
    "from pathlib import Path\n",
    "from torch.utils.data import Dataset, DataLoader\n",
    "from torchvision.transforms import transforms\n",
    "from torchvision.utils import make_grid\n",
    "from torch.autograd import Variable\n",
    "\n",
    "from ECG_Dataset_class import ECG_Dataset\n",
    "from ECG_Model import updateBN, ECG_Net,fine_tune"
   ]
  },
  {
   "cell_type": "code",
   "execution_count": 115,
   "metadata": {},
   "outputs": [],
   "source": [
    "device = torch.device(\"cuda\" if torch.cuda.is_available() else \"cpu\")\n",
    "model  = ECG_Net().to(device)\n",
    "params = json.load(open('config.json', 'r'))\n",
    "train_data = ECG_Dataset(txt = params[\"multilabel_save_folder\"]+'train.txt', transform=transforms.ToTensor())\n",
    "train_loader = DataLoader(dataset=train_data, batch_size=params[\"batch_size\"], shuffle=True,num_workers=16,pin_memory=True)\n",
    "val_data = ECG_Dataset(txt= params[\"multilabel_save_folder\"]+'validation.txt', transform=transforms.ToTensor())\n",
    "val_loader = DataLoader(dataset=val_data, batch_size=params[\"batch_size\"], shuffle=False,num_workers=16,pin_memory=True)\n",
    "test_data = ECG_Dataset(txt= params[\"multilabel_save_folder\"]+'test.txt', transform=transforms.ToTensor())\n",
    "test_loader = DataLoader(dataset=test_data, batch_size=params[\"batch_size\"], shuffle=False,num_workers=16,pin_memory=True)"
   ]
  },
  {
   "cell_type": "code",
   "execution_count": 116,
   "metadata": {},
   "outputs": [],
   "source": [
    "tmp = {i: len(os.listdir(os.path.join(params[\"ecg_root_path\"], j))) for i, j in enumerate(sorted(\n",
    "    os.listdir(params[\"ecg_root_path\"]), key=lambda x: int(x[0]) if x[1] == '-' else int(x[:2])))}\n",
    "counter = Counter(tmp)\n",
    "max_val = float(max(counter.values()))       \n",
    "class_weight_tmp = {class_id : max_val/num_ecg for class_id, num_ecg in counter.items()}\n",
    "c_weight = []\n",
    "for key,val in class_weight_tmp.items():\n",
    "    c_weight.append(val)\n",
    "class_weight = torch.FloatTensor(c_weight).to(device)#必须转成tensor类型\n",
    "Loss_fn = nn.BCELoss(weight = class_weight).to(device)"
   ]
  },
  {
   "cell_type": "code",
   "execution_count": null,
   "metadata": {},
   "outputs": [],
   "source": [
    "model_CKPT = torch.load('./ECG/Pruned_model/ECG_sparse_model.pth.tar')\n",
    "model.load_state_dict(model_CKPT['state_dict'])"
   ]
  },
  {
   "cell_type": "code",
   "execution_count": null,
   "metadata": {},
   "outputs": [],
   "source": [
    "total = 0\n",
    "for m in model.modules():\n",
    "    if isinstance(m, nn.BatchNorm1d):\n",
    "        total = total + m.weight.data.shape[0]##total为所有的gama的总数\n",
    "\n",
    "bn = torch.zeros(total)\n",
    "index = 0\n",
    "for m in model.modules():\n",
    "    if isinstance(m, nn.BatchNorm1d):\n",
    "        size = m.weight.data.shape[0]\n",
    "        bn[index:(index+size)] = m.weight.data.abs().clone()\n",
    "        index += size\n",
    "\n",
    "y, i = torch.sort(bn)\n",
    "\n",
    "thre_index = int(total * 0.5)\n",
    "thre = y[thre_index]\n",
    "\n",
    "pruned = 0\n",
    "cfg = []\n",
    "cfg_mask = []\n",
    "for k, m in enumerate(model.modules()):\n",
    "    if isinstance(m, nn.BatchNorm1d):\n",
    "        weight_copy = m.weight.data.clone()\n",
    "        mask = weight_copy.abs().gt(thre).float().to(device)\n",
    "        pruned = pruned + mask.shape[0] - torch.sum(mask)\n",
    "        m.weight.data.mul_(mask)\n",
    "        m.bias.data.mul_(mask)\n",
    "        cfg.append(int(torch.sum(mask)))\n",
    "        cfg_mask.append(mask.clone())\n",
    "        print('layer index: {:d} \\t total channel: {:d} \\t remaining channel: {:d}'.\n",
    "            format(k, mask.shape[0], int(torch.sum(mask))))\n",
    "\n",
    "pruned_ratio = pruned/total"
   ]
  },
  {
   "cell_type": "code",
   "execution_count": 123,
   "metadata": {},
   "outputs": [],
   "source": [
    "newmodel = ECG_Net(init_weights= False, num_classes=26, cfg = cfg).to(device)\n",
    "layer_id_in_cfg = 0\n",
    "end_mask = cfg_mask[layer_id_in_cfg]\n",
    "for [m0, m1] in zip(model.modules(), newmodel.modules()):\n",
    "    if isinstance(m0, nn.BatchNorm1d):\n",
    "        idx1 = np.squeeze(np.argwhere(np.asarray(end_mask.cpu().numpy())))\n",
    "        m1.weight.data = m0.weight.data[idx1].clone()\n",
    "        m1.bias.data = m0.bias.data[idx1].clone()\n",
    "        m1.running_mean = m0.running_mean[idx1].clone()\n",
    "        m1.running_var = m0.running_var[idx1].clone()\n",
    "        layer_id_in_cfg =layer_id_in_cfg+  1\n",
    "        if layer_id_in_cfg < len(cfg_mask):\n",
    "            end_mask = cfg_mask[layer_id_in_cfg]"
   ]
  },
  {
   "cell_type": "code",
   "execution_count": null,
   "metadata": {},
   "outputs": [],
   "source": [
    "convlayer_id_in_cfg = 0\n",
    "start_mask = torch.ones(12)\n",
    "end_mask = cfg_mask[convlayer_id_in_cfg]\n",
    "for [m0, m1] in zip(model.modules(), newmodel.modules()):\n",
    "    if isinstance(m0, nn.Conv1d):\n",
    "        idx0 = np.squeeze(np.argwhere(np.asarray(start_mask.cpu().numpy())))\n",
    "        idx1 = np.squeeze(np.argwhere(np.asarray(end_mask.cpu().numpy())))\n",
    "        print('In shape: {:d} Out shape:{:d}'.format(idx0.shape[0], idx1.shape[0]))\n",
    "        w = m0.weight.data[:, idx0, :].clone()\n",
    "        w = w[idx1, :, :].clone()\n",
    "        m1.weight.data = w.clone()\n",
    "        convlayer_id_in_cfg = convlayer_id_in_cfg+1\n",
    "        start_mask = end_mask.clone()\n",
    "        if convlayer_id_in_cfg < len(cfg_mask):\n",
    "            end_mask = cfg_mask[convlayer_id_in_cfg]"
   ]
  },
  {
   "cell_type": "code",
   "execution_count": 125,
   "metadata": {},
   "outputs": [],
   "source": [
    "line_layer_id_in_cfg = 0\n",
    "end_mask = cfg_mask[-1]\n",
    "index = end_mask\n",
    "idx = []\n",
    "flag = 1\n",
    "for [m0, m1] in zip(model.modules(), newmodel.modules()):\n",
    "    if isinstance(m0, nn.Linear):\n",
    "        if flag==1:\n",
    "            idx0 = np.squeeze(np.argwhere(np.asarray(end_mask.cpu().numpy())))\n",
    "            idx1 = idx0+512\n",
    "            for i in range(len(idx0)):\n",
    "                idx.append(idx0[i])\n",
    "                idx.append(idx1[i])            \n",
    "            m1.weight.data = m0.weight.data[:, idx].clone()\n",
    "            m1.bias.data = m0.bias.data.clone()\n",
    "            flag = flag +1\n",
    "        else:\n",
    "            m1.weight.data = m0.weight.data.clone()\n"
   ]
  },
  {
   "cell_type": "code",
   "execution_count": null,
   "metadata": {},
   "outputs": [],
   "source": [
    "num_epochs = 20\n",
    "lr = 1e-5\n",
    "optimizer_finetune = torch.optim.Adam(newmodel.parameters(),lr = lr, betas = (0.9, 0.999),eps = 1e-8, weight_decay = 0)\n",
    "\n",
    "newmodel,avg_train_losses, avg_valid_losses = fine_tune(newmodel,train_loader,val_loader,params[\"batch_size\"], num_epochs,Loss_fn,optimizer_finetune)\n",
    "state = {'cfg': cfg, 'state_dict': newmodel.state_dict()}\n",
    "torch.save(state,'./ECG/finetune_slimming_model.pth.tar')"
   ]
  }
 ],
 "metadata": {
  "kernelspec": {
   "display_name": "Python 3",
   "language": "python",
   "name": "python3"
  },
  "language_info": {
   "codemirror_mode": {
    "name": "ipython",
    "version": 3
   },
   "file_extension": ".py",
   "mimetype": "text/x-python",
   "name": "python",
   "nbconvert_exporter": "python",
   "pygments_lexer": "ipython3",
   "version": "3.8.5"
  }
 },
 "nbformat": 4,
 "nbformat_minor": 4
}
