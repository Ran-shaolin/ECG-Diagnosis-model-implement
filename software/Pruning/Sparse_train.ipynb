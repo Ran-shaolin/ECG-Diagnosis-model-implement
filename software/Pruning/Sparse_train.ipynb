{
 "cells": [
  {
   "cell_type": "code",
   "execution_count": 1,
   "metadata": {},
   "outputs": [],
   "source": [
    "%matplotlib inline\n",
    "import sys\n",
    "sys.path\n",
    "import os\n",
    "os.environ['CUDA_VISIBLE_DEVICES'] = '0'\n",
    "from tqdm import tqdm_notebook\n",
    "import json\n",
    "import shutil\n",
    "import xlrd\n",
    "import numpy as np\n",
    "import pandas as pd\n",
    "\n",
    "import torch\n",
    "import torchvision\n",
    "import torch.nn as nn\n",
    "import torch.nn.functional as F\n",
    "import torch.optim as optim\n",
    "from torch.autograd import Variable\n",
    "\n",
    "from torchvision import datasets, transforms\n",
    "from pathlib import Path\n",
    "from torch.utils.data import Dataset, DataLoader\n",
    "from torchvision.transforms import transforms\n",
    "from torchvision.utils import make_grid\n",
    "from torch.autograd import Variable\n",
    "\n",
    "from ECG_Dataset_class import ECG_Dataset\n",
    "from ECG_Model import updateBN, ECG_Net,sparse_train"
   ]
  },
  {
   "cell_type": "code",
   "execution_count": 3,
   "metadata": {},
   "outputs": [],
   "source": [
    "device = torch.device(\"cuda\" if torch.cuda.is_available() else \"cpu\")\n",
    "model  = ECG_Net().to(device)\n",
    "\n",
    "params = json.load(open('config.json', 'r'))\n",
    "train_data = ECG_Dataset(txt = params[\"multilabel_save_folder\"]+'train.txt', transform=transforms.ToTensor())\n",
    "train_loader = DataLoader(dataset=train_data, batch_size=params[\"batch_size\"], shuffle=True,num_workers=16,pin_memory=True)\n",
    "val_data = ECG_Dataset(txt= params[\"multilabel_save_folder\"]+'validation.txt', transform=transforms.ToTensor())\n",
    "val_loader = DataLoader(dataset=val_data, batch_size=params[\"batch_size\"], shuffle=False,num_workers=16,pin_memory=True)\n",
    "test_data = ECG_Dataset(txt= params[\"multilabel_save_folder\"]+'test.txt', transform=transforms.ToTensor())\n",
    "test_loader = DataLoader(dataset=test_data, batch_size=params[\"batch_size\"], shuffle=False,num_workers=16,pin_memory=True)"
   ]
  },
  {
   "cell_type": "code",
   "execution_count": 4,
   "metadata": {},
   "outputs": [],
   "source": [
    "tmp = {i: len(os.listdir(os.path.join(params[\"ecg_root_path\"], j))) for i, j in enumerate(sorted(\n",
    "    os.listdir(params[\"ecg_root_path\"]), key=lambda x: int(x[0]) if x[1] == '-' else int(x[:2])))}\n",
    "counter = Counter(tmp)\n",
    "max_val = float(max(counter.values()))       \n",
    "class_weight_tmp = {class_id : max_val/num_ecg for class_id, num_ecg in counter.items()}\n",
    "c_weight = []\n",
    "for key,val in class_weight_tmp.items():\n",
    "    c_weight.append(val)\n",
    "class_weight = torch.FloatTensor(c_weight).to(device)\n",
    "Loss_fn = nn.BCELoss(weight = class_weight).to(device)"
   ]
  },
  {
   "cell_type": "code",
   "execution_count": null,
   "metadata": {},
   "outputs": [],
   "source": [
    "model_CKPT = torch.load('./ECG/Model_parameter/ECG_model.pth.tar')\n",
    "model.load_state_dict(model_CKPT['state_dict'])\n",
    "num_epochs = 40\n",
    "lr = 1e-4\n",
    "optimizer = torch.optim.Adam(model.parameters(),lr = lr, betas = (0.9, 0.999),eps = 1e-8, weight_decay = 1e-6)\n",
    "lamda = 5e-4\n",
    "sparse_model,avg_train_losses, avg_valid_losses = sparse_train(model,train_loader,val_loader,params[\"batch_size\"], num_epochs,Loss_fn,optimizer,lamda)"
   ]
  }
 ],
 "metadata": {
  "kernelspec": {
   "display_name": "Python 3",
   "language": "python",
   "name": "python3"
  },
  "language_info": {
   "codemirror_mode": {
    "name": "ipython",
    "version": 3
   },
   "file_extension": ".py",
   "mimetype": "text/x-python",
   "name": "python",
   "nbconvert_exporter": "python",
   "pygments_lexer": "ipython3",
   "version": "3.8.5"
  }
 },
 "nbformat": 4,
 "nbformat_minor": 4
}
